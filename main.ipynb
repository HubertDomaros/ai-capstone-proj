{
 "cells": [
  {
   "cell_type": "code",
   "execution_count": null,
   "metadata": {
    "_cell_guid": "b1076dfc-b9ad-4769-8c92-a6c4dae69d19",
    "_uuid": "8f2839f25d086af736a60e9eeb907d3b93b6e0e5",
    "trusted": true
   },
   "outputs": [],
   "source": [
    "# This Python 3 environment comes with many helpful analytics libraries installed\n",
    "# It is defined by the kaggle/python Docker image: https://github.com/kaggle/docker-python\n",
    "# For example, here's several helpful packages to load\n",
    "\n",
    "import numpy as np # linear algebra\n",
    "import pandas as pd # data processing, CSV file I/O (e.g. pd.read_csv)\n",
    "\n",
    "# Input data files are available in the read-only \"../input/\" directory\n",
    "# For example, running this (by clicking run or pressing Shift+Enter) will list all files under the input directory\n",
    "\n",
    "import os\n",
    "# for dirname, _, filenames in os.walk('/kaggle/input'):\n",
    "#     for filename in filenames:\n",
    "#         print(os.path.join(dirname, filename))\n",
    "\n",
    "# You can write up to 20GB to the current directory (/kaggle/working/) that gets preserved as output when you create a version using \"Save & Run All\" \n",
    "# You can also write temporary files to /kaggle/temp/, but they won't be saved outside of the current session"
   ]
  },
  {
   "metadata": {},
   "cell_type": "code",
   "outputs": [],
   "execution_count": null,
   "source": [
    "import src.preprocessing as prep\n",
    "\n",
    "annotations_parser = prep.LabelParser('kaggle/input/codebrim-original/original_dataset/annotations')\n",
    "annotations_df = annotations_parser.annotations_df\n",
    "\n",
    "\n"
   ]
  },
  {
   "metadata": {},
   "cell_type": "code",
   "outputs": [],
   "execution_count": null,
   "source": "annotations_df"
  },
  {
   "cell_type": "code",
   "execution_count": 3,
   "metadata": {},
   "outputs": [
    {
     "data": {
      "text/plain": [
       "img_name           xmin  ymin  xmax  ymax  Background  Crack  Spallation  Efflorescence  ExposedBars  CorrosionStain\n",
       "image0000001.jpg   0     0     0     0     1           0      0           0              0            0                 1\n",
       "image_0001214.jpg  3816  1945  4218  2645  0           0      0           1              0            0                 1\n",
       "image_0001218.jpg  2247  2179  3174  2389  0           1      0           0              0            0                 1\n",
       "                   2097  2321  2347  2892  0           1      0           0              0            0                 1\n",
       "                   2037  3218  2405  3456  0           1      0           0              0            0                 1\n",
       "                                                                                                                       ..\n",
       "image_0000525.jpg  4252  1543  4604  1785  0           0      0           1              0            0                 1\n",
       "                   3794  1491  4231  2072  0           0      0           1              0            0                 1\n",
       "                   3318  1341  3778  2051  0           0      0           1              0            0                 1\n",
       "                   2731  1264  3299  1864  0           0      0           1              0            0                 1\n",
       "image_0001600.jpg  0     0     0     0     1           0      0           0              0            0                 1\n",
       "Name: count, Length: 6780, dtype: int64"
      ]
     },
     "execution_count": 3,
     "metadata": {},
     "output_type": "execute_result"
    }
   ],
   "source": [
    "annotations_df.value_counts()"
   ]
  }
 ],
 "metadata": {
  "kaggle": {
   "accelerator": "none",
   "dataSources": [
    {
     "datasetId": 6388851,
     "sourceId": 10319251,
     "sourceType": "datasetVersion"
    }
   ],
   "isGpuEnabled": false,
   "isInternetEnabled": true,
   "language": "python",
   "sourceType": "notebook"
  },
  "kernelspec": {
   "display_name": "Python 3",
   "language": "python",
   "name": "python3"
  },
  "language_info": {
   "codemirror_mode": {
    "name": "ipython",
    "version": 3
   },
   "file_extension": ".py",
   "mimetype": "text/x-python",
   "name": "python",
   "nbconvert_exporter": "python",
   "pygments_lexer": "ipython3",
   "version": "3.12.0"
  }
 },
 "nbformat": 4,
 "nbformat_minor": 4
}
