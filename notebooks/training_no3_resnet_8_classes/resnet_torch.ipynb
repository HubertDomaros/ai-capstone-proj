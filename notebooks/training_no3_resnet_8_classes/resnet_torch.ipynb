{
 "cells": [
  {
   "cell_type": "code",
   "execution_count": 1,
   "metadata": {},
   "outputs": [
    {
     "data": {
      "text/plain": [
       "'cpu'"
      ]
     },
     "execution_count": 1,
     "metadata": {},
     "output_type": "execute_result"
    }
   ],
   "source": [
    "import torch\n",
    "from torch import nn\n",
    "import torchvision\n",
    "from torchvision import transforms\n",
    "\n",
    "device = \"cuda\" if torch.cuda.is_available() else \"cpu\"\n",
    "device"
   ]
  },
  {
   "cell_type": "code",
   "execution_count": 10,
   "metadata": {},
   "outputs": [],
   "source": [
    "data_path = \"/teamspace/studios/this_studio/datasets/pad\"\n",
    "target_classes = ['Spall_Bars_CorrStain', 'Background', 'Crack', 'Efflorescence', \n",
    "                'Crack-Spall_Bars_CorrStain', 'Crack_and_Efflorescence', \n",
    "                'Efflorescence-Spall_Bars_CorrStain', 'Crack-Efflorescence-Spall_Bars_CorrStain']\n",
    "\n",
    "image_path = data_path + '/images'\n",
    "labels_path = data_path + '/labels'"
   ]
  },
  {
   "cell_type": "code",
   "execution_count": 12,
   "metadata": {},
   "outputs": [],
   "source": [
    "train_imgs_dir = image_path + \"/train\"\n",
    "test_imgs_dir = image_path + '/test'\n",
    "val_imgs_dir = image_path + '/val'"
   ]
  },
  {
   "cell_type": "code",
   "execution_count": 5,
   "metadata": {},
   "outputs": [
    {
     "name": "stderr",
     "output_type": "stream",
     "text": [
      "Using cache found in /home/zeus/.cache/torch/hub/NVIDIA_DeepLearningExamples_torchhub\n"
     ]
    },
    {
     "name": "stderr",
     "output_type": "stream",
     "text": [
      "Using cache found in /home/zeus/.cache/torch/hub/NVIDIA_DeepLearningExamples_torchhub\n"
     ]
    }
   ],
   "source": [
    "resnet50 = torch.hub.load('NVIDIA/DeepLearningExamples:torchhub', 'nvidia_resnet50', pretrained=True)\n",
    "utils = torch.hub.load('NVIDIA/DeepLearningExamples:torchhub', 'nvidia_convnets_processing_utils')"
   ]
  },
  {
   "cell_type": "code",
   "execution_count": 9,
   "metadata": {},
   "outputs": [],
   "source": [
    "\n",
    "\n",
    "\n",
    "class CodebrimClasifier(nn.Module):\n",
    "    def __init__(self):\n",
    "        super().__init__()\n",
    "        self.resnet50 = torch.hub.load('NVIDIA/DeepLearningExamples:torchhub', 'nvidia_resnet50', pretrained=True)\n",
    "        utils = torch.hub.load('NVIDIA/DeepLearningExamples:torchhub', 'nvidia_convnets_processing_utils')\n",
    "        self.resnet50.fc = nn.Linear(in_features=2048, out_features=8)\n",
    "\n",
    "    def forward(self, X):\n",
    "        return self.resnet50(X)\n",
    "\n",
    "    \n",
    "\n",
    "    def train(model, dataloader, epochs=1):\n",
    "        optimizer = torch.optim.Adam(model.parameters(), lr=0.01)\n",
    "        for epoch in range(epochs):\n",
    "            for batch in dataloader:\n"
   ]
  }
 ],
 "metadata": {
  "language_info": {
   "name": "python"
  }
 },
 "nbformat": 4,
 "nbformat_minor": 2
}
