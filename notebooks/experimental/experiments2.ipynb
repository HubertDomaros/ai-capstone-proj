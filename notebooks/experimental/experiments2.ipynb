{
 "cells": [
  {
   "cell_type": "code",
   "execution_count": 2,
   "metadata": {},
   "outputs": [],
   "source": [
    "import torch\n",
    "import torch.nn.functional as F\n",
    "\n",
    "def resize_with_padding(image, target_size=640):\n",
    "    # Convert to float32 if not already\n",
    "    if image.dtype != torch.float32:\n",
    "        image = image.float()\n",
    "\n",
    "    # Get current dimensions\n",
    "    height, width = image.shape[:2]\n",
    "\n",
    "    # Calculate new dimensions while maintaining aspect ratio\n",
    "    ratio = target_size / max(height, width)\n",
    "    new_height = int(height * ratio)\n",
    "    new_width = int(width * ratio)\n",
    "\n",
    "    # Resize the image\n",
    "    resized_image = F.interpolate(image.unsqueeze(0).permute(0, 3, 1, 2), size=(new_height, new_width), mode='bilinear', align_corners=False).squeeze(0).permute(1, 2, 0)\n",
    "\n",
    "    # Calculate padding\n",
    "    pad_height = target_size - new_height\n",
    "    pad_width = target_size - new_width\n",
    "\n",
    "    # Add padding\n",
    "    padding = [\n",
    "        pad_width // 2, pad_width - pad_width // 2,  # Left, Right\n",
    "        pad_height // 2, pad_height - pad_height // 2  # Top, Bottom\n",
    "    ]\n",
    "\n",
    "    padded_image = F.pad(resized_image.permute(2, 0, 1), padding, mode='constant', value=0).permute(1, 2, 0)\n",
    "\n",
    "    return padded_image"
   ]
  },
  {
   "cell_type": "code",
   "execution_count": 15,
   "metadata": {},
   "outputs": [],
   "source": [
    "from PIL import Image\n",
    "\n",
    "def resize_image_to_smaller_dimension(image_path, output_path, target_size):\n",
    "    # Open an image file\n",
    "    with Image.open(image_path) as img:\n",
    "        # Get original dimensions\n",
    "        original_width, original_height = img.size\n",
    "        \n",
    "        # Determine the scaling factor based on the larger dimension\n",
    "        if original_width > original_height:\n",
    "            scale_factor = target_size / original_width\n",
    "        else:\n",
    "            scale_factor = target_size / original_height\n",
    "        \n",
    "        # Calculate new dimensions\n",
    "        new_width = int(original_width * scale_factor)\n",
    "        new_height = int(original_height * scale_factor)\n",
    "        \n",
    "        # Resize the image\n",
    "        resized_img = img.resize((new_width, new_height))\n",
    "\n",
    "        # Save the resized image\n",
    "        resized_img.save(output_path)\n"
   ]
  },
  {
   "cell_type": "code",
   "execution_count": null,
   "metadata": {},
   "outputs": [],
   "source": [
    "from PIL import Image\n",
    "\n",
    "img = resize_image_to_smaller_dimension('/workspaces/ai-capstone-proj/examples/image_0000005.jpg', '/workspaces/ai-capstone-proj/examples/image_0000005_resize.jpg',  640)\n"
   ]
  },
  {
   "cell_type": "code",
   "execution_count": 19,
   "metadata": {},
   "outputs": [
    {
     "name": "stdout",
     "output_type": "stream",
     "text": [
      "Position of the image: (107, 0)\n"
     ]
    }
   ],
   "source": [
    "from PIL import Image\n",
    "\n",
    "def resize_and_pad_to_square(image_path, output_path, target_size):\n",
    "    # Open an image file\n",
    "    with Image.open(image_path) as img:\n",
    "        # Get original dimensions\n",
    "        original_width, original_height = img.size\n",
    "        \n",
    "        # Determine the scaling factor based on the larger dimension\n",
    "        if original_width > original_height:\n",
    "            scale_factor = target_size / original_width\n",
    "        else:\n",
    "            scale_factor = target_size / original_height\n",
    "        \n",
    "        # Calculate new dimensions\n",
    "        new_width = int(original_width * scale_factor)\n",
    "        new_height = int(original_height * scale_factor)\n",
    "        \n",
    "        # Resize the image\n",
    "        resized_img = img.resize((new_width, new_height))\n",
    "        \n",
    "        # Create a new square image with a black background\n",
    "        square_img = Image.new(\"RGB\", (target_size, target_size), (0, 0, 0))\n",
    "        \n",
    "        # Calculate position to center the resized image\n",
    "        position = ((target_size - new_width) // 2, (target_size - new_height) // 2)\n",
    "        \n",
    "        # Paste the resized image onto the square image\n",
    "        square_img.paste(resized_img, position)\n",
    "\n",
    "        # Save the padded image\n",
    "        square_img.save(output_path)\n",
    "\n",
    "        # Return the padded image and the position\n",
    "        return square_img, position\n",
    "\n",
    "# Example usage\n",
    "padded_image, position = resize_and_pad_to_square('/workspaces/ai-capstone-proj/examples/image_0000005.jpg', '/workspaces/ai-capstone-proj/examples/image_0000005_resize.jpg',  640)\n",
    "print(\"Position of the image:\", position)\n"
   ]
  },
  {
   "cell_type": "code",
   "execution_count": 21,
   "metadata": {},
   "outputs": [
    {
     "name": "stdout",
     "output_type": "stream",
     "text": [
      "YOLO format coordinates: (0.5, 0.5, 0.665625, 1.0)\n"
     ]
    }
   ],
   "source": [
    "from PIL import Image\n",
    "\n",
    "def resize_and_pad_to_square_yolo(image_path, output_path, target_size):\n",
    "    # Open an image file\n",
    "    with Image.open(image_path) as img:\n",
    "        # Get original dimensions\n",
    "        original_width, original_height = img.size\n",
    "        \n",
    "        # Determine the scaling factor based on the larger dimension\n",
    "        if original_width > original_height:\n",
    "            scale_factor = target_size / original_width\n",
    "        else:\n",
    "            scale_factor = target_size / original_height\n",
    "        \n",
    "        # Calculate new dimensions\n",
    "        new_width = int(original_width * scale_factor)\n",
    "        new_height = int(original_height * scale_factor)\n",
    "        \n",
    "        # Resize the image\n",
    "        resized_img = img.resize((new_width, new_height))\n",
    "        \n",
    "        # Create a new square image with a black background\n",
    "        square_img = Image.new(\"RGB\", (target_size, target_size), (0, 0, 0))\n",
    "        \n",
    "        # Calculate position to center the resized image\n",
    "        position = ((target_size - new_width) // 2, (target_size - new_height) // 2)\n",
    "        \n",
    "        # Paste the resized image onto the square image\n",
    "        square_img.paste(resized_img, position)\n",
    "\n",
    "        # Save the padded image\n",
    "        square_img.save(output_path)\n",
    "\n",
    "        # Calculate YOLO format coordinates\n",
    "        # Center of the bounding box\n",
    "        center_x = (position[0] + new_width / 2) / target_size\n",
    "        center_y = (position[1] + new_height / 2) / target_size\n",
    "        \n",
    "        # Width and height of the bounding box\n",
    "        width = new_width / target_size\n",
    "        height = new_height / target_size\n",
    "        \n",
    "        # Return the padded image and YOLO format coordinates\n",
    "        return square_img, (center_x, center_y, width, height)\n",
    "\n",
    "# Example usage\n",
    "padded_image, yolo_coordinates = resize_and_pad_to_square_yolo('/workspaces/ai-capstone-proj/examples/image_0000005.jpg', '/workspaces/ai-capstone-proj/examples/image_0000005_resize.jpg',  640)\n",
    "print(\"YOLO format coordinates:\", yolo_coordinates)\n"
   ]
  },
  {
   "cell_type": "markdown",
   "metadata": {},
   "source": []
  }
 ],
 "metadata": {
  "kernelspec": {
   "display_name": ".conda",
   "language": "python",
   "name": "python3"
  },
  "language_info": {
   "codemirror_mode": {
    "name": "ipython",
    "version": 3
   },
   "file_extension": ".py",
   "mimetype": "text/x-python",
   "name": "python",
   "nbconvert_exporter": "python",
   "pygments_lexer": "ipython3",
   "version": "3.11.11"
  }
 },
 "nbformat": 4,
 "nbformat_minor": 2
}
